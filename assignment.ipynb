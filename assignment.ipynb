{
  "nbformat": 4,
  "nbformat_minor": 0,
  "metadata": {
    "colab": {
      "name": "assignment.ipynb",
      "provenance": [],
      "collapsed_sections": [],
      "authorship_tag": "ABX9TyOPiL5azmSEKQWelwvcofCV",
      "include_colab_link": true
    },
    "kernelspec": {
      "name": "python3",
      "display_name": "Python 3"
    },
    "language_info": {
      "name": "python"
    }
  },
  "cells": [
    {
      "cell_type": "markdown",
      "metadata": {
        "id": "view-in-github",
        "colab_type": "text"
      },
      "source": [
        "<a href=\"https://colab.research.google.com/github/swathi12-nov/python/blob/main/assignment.ipynb\" target=\"_parent\"><img src=\"https://colab.research.google.com/assets/colab-badge.svg\" alt=\"Open In Colab\"/></a>"
      ]
    },
    {
      "cell_type": "code",
      "source": [
        "#question 1\n",
        "def recur_factorial(n):  \n",
        "   if n == 1:  \n",
        "       return n  \n",
        "   else:  \n",
        "       return n*recur_factorial(n-1)  \n",
        "# take input from the user  \n",
        "num = int(input(\"Enter a number: \"))  \n",
        "# check is the number is negative  \n",
        "if num < 0:  \n",
        "   print(\"Sorry, factorial does not exist for negative numbers\")  \n",
        "elif num == 0:  \n",
        "   print(\"The factorial of 0 is 1\")  \n",
        "else:  \n",
        "   print(\"The factorial of\",num,\"is\",recur_factorial(num))  "
      ],
      "metadata": {
        "colab": {
          "base_uri": "https://localhost:8080/"
        },
        "id": "Zb5Gz_U7TElA",
        "outputId": "f1bc0eb6-78bc-4580-aa92-0d376574a8f0"
      },
      "execution_count": null,
      "outputs": [
        {
          "output_type": "stream",
          "name": "stdout",
          "text": [
            "Enter a number: 5\n",
            "The factorial of 5 is 120\n"
          ]
        }
      ]
    },
    {
      "cell_type": "code",
      "execution_count": null,
      "metadata": {
        "colab": {
          "base_uri": "https://localhost:8080/"
        },
        "id": "UQSorLyXMayz",
        "outputId": "1566d193-4d26-4912-fd99-6e58f9cae255"
      },
      "outputs": [
        {
          "output_type": "stream",
          "name": "stdout",
          "text": [
            "Luke i am your  father\n",
            "Luke i am your  sister\n",
            "Luke i am your  brother in law\n",
            "Luke i am your  droid\n"
          ]
        }
      ],
      "source": [
        "#2 question\n",
        "relation = {\"Darth Vader\":\"father\",\"Liea\":\"sister\",\"Han\":\"brother in law\",\"R2D2\":\"droid\"}\n",
        "for i in relation.values():\n",
        "  print(\"Luke i am your \",i)"
      ]
    },
    {
      "cell_type": "code",
      "source": [
        "#queston 3\n",
        "def digits(num):\n",
        "  count = 0\n",
        "  while (num!=0):\n",
        "    num = num//10\n",
        "    count = count + 1\n",
        "  return count\n",
        " "
      ],
      "metadata": {
        "id": "5bjvS5c0Pjew"
      },
      "execution_count": null,
      "outputs": []
    },
    {
      "cell_type": "code",
      "source": [
        " num = int(input(\"enter a number: \"))\n",
        "print(digits(num))\n",
        "  "
      ],
      "metadata": {
        "colab": {
          "base_uri": "https://localhost:8080/"
        },
        "id": "yO13EN4KS_Gc",
        "outputId": "2745088a-8257-4450-e2c9-33ffe263a45f"
      },
      "execution_count": null,
      "outputs": [
        {
          "output_type": "stream",
          "name": "stdout",
          "text": [
            "enter a number: 345\n",
            "3\n"
          ]
        }
      ]
    },
    {
      "cell_type": "code",
      "source": [
        "#question 5\n",
        "num = 1,2,3,4\n",
        "print (\"The original list is : \" + str(num))\n",
        "res = sum(map(lambda i : i * i, num))\n",
        "print (\"The sum of squares of list is : \" + str(res))\n"
      ],
      "metadata": {
        "colab": {
          "base_uri": "https://localhost:8080/"
        },
        "id": "iUtPMmAbSOwm",
        "outputId": "7176aaf4-b00e-4063-cd6c-d5b78fa99fa8"
      },
      "execution_count": null,
      "outputs": [
        {
          "output_type": "stream",
          "name": "stdout",
          "text": [
            "The original list is : (1, 2, 3, 4)\n",
            "The sum of squares of list is : 30\n"
          ]
        }
      ]
    },
    {
      "cell_type": "code",
      "source": [
        "# 6 question\n",
        "operation = input('''\n",
        "Please enter an operation to do:\n",
        "+ for addition\n",
        "- for subtraction\n",
        "* for multiplication\n",
        "/ for division\n",
        "''')\n",
        "\n",
        "number_1 = int(input('Enter your first number: '))\n",
        "number_2 = int(input('Enter your second number: '))\n",
        "\n",
        "\n",
        "if operation == '+':\n",
        "    print('{} + {} = '.format(number_1, number_2))\n",
        "    print(number_1 + number_2)\n",
        "\n",
        "elif operation == '-':\n",
        "    print('{} - {} = '.format(number_1, number_2))\n",
        "    print(number_1 - number_2)\n",
        "\n",
        "elif operation == '*':\n",
        "    print('{} * {} = '.format(number_1, number_2))\n",
        "    print(number_1 * number_2)\n",
        "\n",
        "elif operation == '/':\n",
        "    print('{} / {} = '.format(number_1, number_2))\n",
        "    print(number_1 / number_2)\n",
        "\n",
        "else:\n",
        "    print('You have not typed a valid operator, please run the program again.')\n"
      ],
      "metadata": {
        "colab": {
          "base_uri": "https://localhost:8080/"
        },
        "id": "ACKCRXAmOnqz",
        "outputId": "13203813-14f8-4453-d468-2ec286bfa6a4"
      },
      "execution_count": null,
      "outputs": [
        {
          "output_type": "stream",
          "name": "stdout",
          "text": [
            "\n",
            "Please enter an operation to do:\n",
            "+ for addition\n",
            "- for subtraction\n",
            "* for multiplication\n",
            "/ for division\n",
            "-\n",
            "Enter your first number: 5\n",
            "Enter your second number: 1\n",
            "5 - 1 = \n",
            "4\n"
          ]
        }
      ]
    },
    {
      "cell_type": "code",
      "source": [
        "#7 question\n",
        "n = int(input(\"enter a number: \"))\n",
        "for i in range(0,n):\n",
        "  if(i%2==0):\n",
        "    print(\"I Can\")\n",
        "  else:\n",
        "    print(\"i will\")\n"
      ],
      "metadata": {
        "colab": {
          "base_uri": "https://localhost:8080/"
        },
        "id": "XQV0pn0ZNZc6",
        "outputId": "a82a119b-04ff-4d29-f66b-c6a957012617"
      },
      "execution_count": null,
      "outputs": [
        {
          "output_type": "stream",
          "name": "stdout",
          "text": [
            "enter a number: 3\n",
            "I Can\n",
            "i will\n",
            "I Can\n"
          ]
        }
      ]
    },
    {
      "cell_type": "code",
      "source": [
        "def pair(l1):\n",
        "  l1.sort()\n",
        "  length = len(l1)\n",
        "  i = 0 \n",
        "  while(i<(length - 1)):\n",
        "    if(l1[i]==l1[i+1]):\n",
        "      count = count+1\n",
        "      i = i+2\n",
        "    else:\n",
        "      i = i+1\n",
        "  return count\n",
        "  l1 = [1,2,1,2,1,3,2]\n",
        "  pair(l1)\n",
        "  print(pair(l1))"
      ],
      "metadata": {
        "id": "1oWEklx5nvUP"
      },
      "execution_count": null,
      "outputs": []
    },
    {
      "cell_type": "code",
      "source": [
        "# 9 question\n",
        "def areConsecutive(arr, n):\n",
        "\n",
        "\tif ( n < 1 ):\n",
        "\t\treturn False\n",
        "\n",
        "\t\n",
        "\tmin = getMin(arr, n)\n",
        "  \n",
        "\tmax = getMax(arr, n)\n",
        "\n",
        "\n",
        "\tif (max - min + 1 == n):\n",
        "\n",
        "\t\tfor i in range(n):\n",
        "\n",
        "\t\t\tif (arr[i] < 0):\n",
        "\t\t\t\tj = -arr[i] - min\n",
        "\t\t\telse:\n",
        "\t\t\t\tj = arr[i] - min\n",
        "\n",
        "\t\t\tif (arr[j] > 0):\n",
        "\t\t\t\tarr[j] = -arr[j]\n",
        "\t\t\telse:\n",
        "\t\t\t\treturn False\n",
        "\n",
        "\t\t\n",
        "\t\treturn True\n",
        "\n",
        "\treturn False\t\n",
        "\n",
        "def getMin(arr, n):\n",
        "\t\n",
        "\tmin = arr[0]\n",
        "\tfor i in range(1, n):\n",
        "\t\tif (arr[i] < min):\n",
        "\t\t\tmin = arr[i]\n",
        "\treturn min\n",
        "\n",
        "def getMax(arr, n):\n",
        "\tmax = arr[0]\n",
        "\tfor i in range(1, n):\n",
        "\t\tif (arr[i] > max):\n",
        "\t\t\tmax = arr[i]\n",
        "\treturn max\n",
        "\n",
        "\n",
        "if __name__ == \"__main__\":\n",
        "    \n",
        "    r = [1,2,5]\n",
        "    s = [4,6,3]\n",
        "    arr = r+s\n",
        "    n = len(arr)\n",
        "    if(areConsecutive(arr, n) == True):\n",
        "        print(\"Array elements are consectuve\")\n",
        "    else:\n",
        "        print(\"Array elements arec not consecutive\")\n",
        "    "
      ],
      "metadata": {
        "colab": {
          "base_uri": "https://localhost:8080/"
        },
        "id": "jZjm6r18RvMK",
        "outputId": "11d3fba0-d081-4744-9f8d-e0f191227611"
      },
      "execution_count": null,
      "outputs": [
        {
          "output_type": "stream",
          "name": "stdout",
          "text": [
            "Array elements are consectuve\n"
          ]
        }
      ]
    },
    {
      "cell_type": "code",
      "source": [
        "#10 question\n",
        "d = {\"cost_price\":32.67,\"sell_price\": 45.00}\n",
        "print(d)\n",
        "a = d.get(\"cost_price\")\n",
        "print(a)\n",
        "b = d.get(\"sell_price\")\n",
        "print(b)\n",
        "profit = b-a\n",
        "print(profit)"
      ],
      "metadata": {
        "id": "XD_JuFaLTuUl",
        "colab": {
          "base_uri": "https://localhost:8080/"
        },
        "outputId": "8951ac77-613f-44dc-fc08-078ff219147a"
      },
      "execution_count": null,
      "outputs": [
        {
          "output_type": "stream",
          "name": "stdout",
          "text": [
            "{'cost_price': 32.67, 'sell_price': 45.0}\n",
            "32.67\n",
            "45.0\n",
            "12.329999999999998\n"
          ]
        }
      ]
    },
    {
      "cell_type": "code",
      "source": [
        ""
      ],
      "metadata": {
        "id": "wvhAE05uj_W8"
      },
      "execution_count": null,
      "outputs": []
    }
  ]
}